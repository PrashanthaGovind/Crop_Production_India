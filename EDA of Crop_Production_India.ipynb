{
 "cells": [
  {
   "cell_type": "code",
   "execution_count": 1,
   "id": "c37b5847",
   "metadata": {},
   "outputs": [],
   "source": [
    "import numpy as np\n",
    "import pandas as pd\n",
    "import matplotlib.pyplot as plt\n",
    "import seaborn as sb"
   ]
  },
  {
   "cell_type": "code",
   "execution_count": 2,
   "id": "38455149",
   "metadata": {},
   "outputs": [],
   "source": [
    "crop = pd.read_csv(r'E:\\Data Analysis\\Project\\Crop\\crop_production.csv')"
   ]
  },
  {
   "cell_type": "code",
   "execution_count": 3,
   "id": "dcb86a18",
   "metadata": {},
   "outputs": [
    {
     "data": {
      "text/html": [
       "<div>\n",
       "<style scoped>\n",
       "    .dataframe tbody tr th:only-of-type {\n",
       "        vertical-align: middle;\n",
       "    }\n",
       "\n",
       "    .dataframe tbody tr th {\n",
       "        vertical-align: top;\n",
       "    }\n",
       "\n",
       "    .dataframe thead th {\n",
       "        text-align: right;\n",
       "    }\n",
       "</style>\n",
       "<table border=\"1\" class=\"dataframe\">\n",
       "  <thead>\n",
       "    <tr style=\"text-align: right;\">\n",
       "      <th></th>\n",
       "      <th>State_Name</th>\n",
       "      <th>District_Name</th>\n",
       "      <th>Crop_Year</th>\n",
       "      <th>Season</th>\n",
       "      <th>Crop</th>\n",
       "      <th>Area</th>\n",
       "      <th>Production</th>\n",
       "    </tr>\n",
       "  </thead>\n",
       "  <tbody>\n",
       "    <tr>\n",
       "      <th>0</th>\n",
       "      <td>Andaman and Nicobar Islands</td>\n",
       "      <td>NICOBARS</td>\n",
       "      <td>2000</td>\n",
       "      <td>Kharif</td>\n",
       "      <td>Arecanut</td>\n",
       "      <td>1254.0</td>\n",
       "      <td>2000.0</td>\n",
       "    </tr>\n",
       "    <tr>\n",
       "      <th>1</th>\n",
       "      <td>Andaman and Nicobar Islands</td>\n",
       "      <td>NICOBARS</td>\n",
       "      <td>2000</td>\n",
       "      <td>Kharif</td>\n",
       "      <td>Other Kharif pulses</td>\n",
       "      <td>2.0</td>\n",
       "      <td>1.0</td>\n",
       "    </tr>\n",
       "    <tr>\n",
       "      <th>2</th>\n",
       "      <td>Andaman and Nicobar Islands</td>\n",
       "      <td>NICOBARS</td>\n",
       "      <td>2000</td>\n",
       "      <td>Kharif</td>\n",
       "      <td>Rice</td>\n",
       "      <td>102.0</td>\n",
       "      <td>321.0</td>\n",
       "    </tr>\n",
       "    <tr>\n",
       "      <th>3</th>\n",
       "      <td>Andaman and Nicobar Islands</td>\n",
       "      <td>NICOBARS</td>\n",
       "      <td>2000</td>\n",
       "      <td>Whole Year</td>\n",
       "      <td>Banana</td>\n",
       "      <td>176.0</td>\n",
       "      <td>641.0</td>\n",
       "    </tr>\n",
       "    <tr>\n",
       "      <th>4</th>\n",
       "      <td>Andaman and Nicobar Islands</td>\n",
       "      <td>NICOBARS</td>\n",
       "      <td>2000</td>\n",
       "      <td>Whole Year</td>\n",
       "      <td>Cashewnut</td>\n",
       "      <td>720.0</td>\n",
       "      <td>165.0</td>\n",
       "    </tr>\n",
       "  </tbody>\n",
       "</table>\n",
       "</div>"
      ],
      "text/plain": [
       "                    State_Name District_Name  Crop_Year       Season  \\\n",
       "0  Andaman and Nicobar Islands      NICOBARS       2000  Kharif        \n",
       "1  Andaman and Nicobar Islands      NICOBARS       2000  Kharif        \n",
       "2  Andaman and Nicobar Islands      NICOBARS       2000  Kharif        \n",
       "3  Andaman and Nicobar Islands      NICOBARS       2000  Whole Year    \n",
       "4  Andaman and Nicobar Islands      NICOBARS       2000  Whole Year    \n",
       "\n",
       "                  Crop    Area  Production  \n",
       "0             Arecanut  1254.0      2000.0  \n",
       "1  Other Kharif pulses     2.0         1.0  \n",
       "2                 Rice   102.0       321.0  \n",
       "3               Banana   176.0       641.0  \n",
       "4            Cashewnut   720.0       165.0  "
      ]
     },
     "execution_count": 3,
     "metadata": {},
     "output_type": "execute_result"
    }
   ],
   "source": [
    "crop.head()"
   ]
  },
  {
   "cell_type": "code",
   "execution_count": 4,
   "id": "585450f6",
   "metadata": {},
   "outputs": [
    {
     "data": {
      "text/plain": [
       "State_Name          0\n",
       "District_Name       0\n",
       "Crop_Year           0\n",
       "Season              0\n",
       "Crop                0\n",
       "Area                0\n",
       "Production       3730\n",
       "dtype: int64"
      ]
     },
     "execution_count": 4,
     "metadata": {},
     "output_type": "execute_result"
    }
   ],
   "source": [
    "crop.isnull().sum()"
   ]
  },
  {
   "cell_type": "markdown",
   "id": "6fece25a",
   "metadata": {},
   "source": [
    "**We can see 3730 rows are empty in production column and the reason is unknown hence we can delete these rows from the dataset**"
   ]
  },
  {
   "cell_type": "code",
   "execution_count": 5,
   "id": "ea1082cb",
   "metadata": {},
   "outputs": [],
   "source": [
    "crop.dropna(inplace=True)"
   ]
  },
  {
   "cell_type": "code",
   "execution_count": 6,
   "id": "07b0ed95",
   "metadata": {},
   "outputs": [
    {
     "data": {
      "text/plain": [
       "State_Name       0\n",
       "District_Name    0\n",
       "Crop_Year        0\n",
       "Season           0\n",
       "Crop             0\n",
       "Area             0\n",
       "Production       0\n",
       "dtype: int64"
      ]
     },
     "execution_count": 6,
     "metadata": {},
     "output_type": "execute_result"
    }
   ],
   "source": [
    "crop.isnull().sum()"
   ]
  },
  {
   "cell_type": "code",
   "execution_count": 7,
   "id": "dddba518",
   "metadata": {},
   "outputs": [
    {
     "data": {
      "text/plain": [
       "(242361, 7)"
      ]
     },
     "execution_count": 7,
     "metadata": {},
     "output_type": "execute_result"
    }
   ],
   "source": [
    "crop.shape"
   ]
  },
  {
   "cell_type": "code",
   "execution_count": 8,
   "id": "0d264e5f",
   "metadata": {},
   "outputs": [
    {
     "data": {
      "text/plain": [
       "array(['Kharif     ', 'Whole Year ', 'Autumn     ', 'Rabi       ',\n",
       "       'Summer     ', 'Winter     '], dtype=object)"
      ]
     },
     "execution_count": 8,
     "metadata": {},
     "output_type": "execute_result"
    }
   ],
   "source": [
    "crop.Season.unique()"
   ]
  },
  {
   "cell_type": "code",
   "execution_count": 9,
   "id": "349d02ba",
   "metadata": {},
   "outputs": [
    {
     "data": {
      "text/plain": [
       "array(['Arecanut', 'Other Kharif pulses', 'Rice', 'Banana', 'Cashewnut',\n",
       "       'Coconut ', 'Dry ginger', 'Sugarcane', 'Sweet potato', 'Tapioca',\n",
       "       'Black pepper', 'Dry chillies', 'other oilseeds', 'Turmeric',\n",
       "       'Maize', 'Moong(Green Gram)', 'Urad', 'Arhar/Tur', 'Groundnut',\n",
       "       'Sunflower', 'Bajra', 'Castor seed', 'Cotton(lint)', 'Horse-gram',\n",
       "       'Jowar', 'Korra', 'Ragi', 'Tobacco', 'Gram', 'Wheat', 'Masoor',\n",
       "       'Sesamum', 'Linseed', 'Safflower', 'Onion', 'other misc. pulses',\n",
       "       'Samai', 'Small millets', 'Coriander', 'Potato',\n",
       "       'Other  Rabi pulses', 'Soyabean', 'Beans & Mutter(Vegetable)',\n",
       "       'Bhindi', 'Brinjal', 'Citrus Fruit', 'Cucumber', 'Grapes', 'Mango',\n",
       "       'Orange', 'other fibres', 'Other Fresh Fruits', 'Other Vegetables',\n",
       "       'Papaya', 'Pome Fruit', 'Tomato', 'Mesta', 'Cowpea(Lobia)',\n",
       "       'Lemon', 'Pome Granet', 'Sapota', 'Cabbage', 'Rapeseed &Mustard',\n",
       "       'Peas  (vegetable)', 'Niger seed', 'Bottle Gourd', 'Varagu',\n",
       "       'Garlic', 'Ginger', 'Oilseeds total', 'Pulses total', 'Jute',\n",
       "       'Peas & beans (Pulses)', 'Blackgram', 'Paddy', 'Pineapple',\n",
       "       'Barley', 'Sannhamp', 'Khesari', 'Guar seed', 'Moth',\n",
       "       'Other Cereals & Millets', 'Cond-spcs other', 'Turnip', 'Carrot',\n",
       "       'Redish', 'Arcanut (Processed)', 'Atcanut (Raw)',\n",
       "       'Cashewnut Processed', 'Cashewnut Raw', 'Cardamom', 'Rubber',\n",
       "       'Bitter Gourd', 'Drum Stick', 'Jack Fruit', 'Snak Guard', 'Tea',\n",
       "       'Coffee', 'Cauliflower', 'Other Citrus Fruit', 'Water Melon',\n",
       "       'Total foodgrain', 'Kapas', 'Colocosia', 'Lentil', 'Bean',\n",
       "       'Jobster', 'Perilla', 'Rajmash Kholar', 'Ricebean (nagadal)',\n",
       "       'Ash Gourd', 'Beet Root', 'Lab-Lab', 'Ribed Guard', 'Yam',\n",
       "       'Pump Kin', 'Apple', 'Peach', 'Pear', 'Plums', 'Litchi', 'Ber',\n",
       "       'Other Dry Fruit', 'Jute & mesta'], dtype=object)"
      ]
     },
     "execution_count": 9,
     "metadata": {},
     "output_type": "execute_result"
    }
   ],
   "source": [
    "# checking unique crops names \n",
    "# we observed that many crops were presenyed with their syononame so we decided all syononyms of crops to replace with their popular name\n",
    "# like paddy and rice are same so we replace paddy with Rice\n",
    "# also number of rows of crops sub-category were very less\n",
    "\n",
    "crop.Crop.unique()"
   ]
  },
  {
   "cell_type": "code",
   "execution_count": 10,
   "id": "f0537e3c",
   "metadata": {},
   "outputs": [
    {
     "data": {
      "text/plain": [
       "array(['Andaman and Nicobar Islands', 'Andhra Pradesh',\n",
       "       'Arunachal Pradesh', 'Assam', 'Bihar', 'Chandigarh',\n",
       "       'Chhattisgarh', 'Dadra and Nagar Haveli', 'Goa', 'Gujarat',\n",
       "       'Haryana', 'Himachal Pradesh', 'Jammu and Kashmir ', 'Jharkhand',\n",
       "       'Karnataka', 'Kerala', 'Madhya Pradesh', 'Maharashtra', 'Manipur',\n",
       "       'Meghalaya', 'Mizoram', 'Nagaland', 'Odisha', 'Puducherry',\n",
       "       'Punjab', 'Rajasthan', 'Sikkim', 'Tamil Nadu', 'Telangana ',\n",
       "       'Tripura', 'Uttar Pradesh', 'Uttarakhand', 'West Bengal'],\n",
       "      dtype=object)"
      ]
     },
     "execution_count": 10,
     "metadata": {},
     "output_type": "execute_result"
    }
   ],
   "source": [
    "crop.State_Name.unique()"
   ]
  },
  {
   "cell_type": "code",
   "execution_count": 11,
   "id": "48ee2d4d",
   "metadata": {},
   "outputs": [],
   "source": [
    "# Removing white spaces from categorical columns\n",
    "crop['State_Name'] = crop['State_Name'].apply(lambda x : x.strip())\n",
    "crop['District_Name'] = crop['District_Name'].apply(lambda x : x.strip())\n",
    "crop['Season'] = crop['Season'].apply(lambda x : x.strip())\n",
    "crop['Crop'] = crop['Crop'].apply(lambda x : x.strip())"
   ]
  },
  {
   "cell_type": "code",
   "execution_count": 12,
   "id": "63ea9e18",
   "metadata": {},
   "outputs": [
    {
     "data": {
      "text/plain": [
       "array(['Kharif', 'Whole Year', 'Autumn', 'Rabi', 'Summer', 'Winter'],\n",
       "      dtype=object)"
      ]
     },
     "execution_count": 12,
     "metadata": {},
     "output_type": "execute_result"
    }
   ],
   "source": [
    "crop.Season.unique()"
   ]
  },
  {
   "cell_type": "code",
   "execution_count": 13,
   "id": "e49da682",
   "metadata": {},
   "outputs": [
    {
     "data": {
      "text/plain": [
       "Kharif        94283\n",
       "Rabi          66160\n",
       "Whole Year    56127\n",
       "Summer        14811\n",
       "Winter         6050\n",
       "Autumn         4930\n",
       "Name: Season, dtype: int64"
      ]
     },
     "execution_count": 13,
     "metadata": {},
     "output_type": "execute_result"
    }
   ],
   "source": [
    "crop.Season.value_counts()"
   ]
  },
  {
   "cell_type": "markdown",
   "id": "b359e754",
   "metadata": {},
   "source": [
    "**Deleting recordes where there is no production since it won't effect the analysis**"
   ]
  },
  {
   "cell_type": "code",
   "execution_count": 14,
   "id": "d3a98f4a",
   "metadata": {},
   "outputs": [],
   "source": [
    "''' \n",
    "Crops that mainly grow during summer are called kharif crops and Kharif crops is also known as monsoon crops or autumn crops so \n",
    "we can replace the winter and Autumn seasons with Kharif.\n",
    "Same way the Rabi crops are known as winter crops so we can replace winter season with Rabi.\n",
    "'''\n",
    "crop['Season'] = crop['Season'].apply(lambda x : x.replace('Autumn', 'Kharif'))\n",
    "\n",
    "crop['Season'] = crop['Season'].apply(lambda x : x.replace('Summer', 'Kharif'))\n",
    "\n",
    "crop['Season'] = crop['Season'].apply(lambda x : x.replace('Winter', 'Rabi'))\n"
   ]
  },
  {
   "cell_type": "code",
   "execution_count": 15,
   "id": "058f0b12",
   "metadata": {},
   "outputs": [
    {
     "data": {
      "text/plain": [
       "Kharif        114024\n",
       "Rabi           72210\n",
       "Whole Year     56127\n",
       "Name: Season, dtype: int64"
      ]
     },
     "execution_count": 15,
     "metadata": {},
     "output_type": "execute_result"
    }
   ],
   "source": [
    "crop.Season.value_counts()"
   ]
  },
  {
   "cell_type": "code",
   "execution_count": 16,
   "id": "fe6dca57",
   "metadata": {},
   "outputs": [],
   "source": [
    "crop.drop(crop[crop['Production'] == 0].index,inplace=True)"
   ]
  },
  {
   "cell_type": "code",
   "execution_count": 18,
   "id": "61478d99",
   "metadata": {},
   "outputs": [
    {
     "name": "stdout",
     "output_type": "stream",
     "text": [
      "(238838, 7)\n"
     ]
    }
   ],
   "source": [
    "print(crop.shape)"
   ]
  },
  {
   "cell_type": "markdown",
   "id": "7888041f",
   "metadata": {},
   "source": [
    "**Grouping Similar crops**"
   ]
  },
  {
   "cell_type": "code",
   "execution_count": 19,
   "id": "31293fce",
   "metadata": {},
   "outputs": [],
   "source": [
    "# we have replaced  kapas to cotton etc.\n",
    "\n",
    "crop['Crop'] = crop['Crop'].apply(lambda x : x.replace('Kapas','Cotton(lint)').replace('Cotton(lint)','Cotton'))\n",
    "\n",
    "crop.replace('Jute & mesta','Jute',inplace=True)\n",
    "crop.replace('Mesta','Jute',inplace=True)"
   ]
  },
  {
   "cell_type": "code",
   "execution_count": 20,
   "id": "30fe8b9d",
   "metadata": {},
   "outputs": [],
   "source": [
    "# we have replace sub-category of pulses with pulse\n",
    "\n",
    "crop['Crop'] = crop['Crop'].apply(lambda x:x.replace('Other Kharif pulses','pulses')\n",
    "                                    .replace('Other  Rabi pulses','pulses')\n",
    "                                    .replace('Peas & beans (Pulses)','pulses')\n",
    "                                    .replace('Pulses total','pulses')\n",
    "                                    .replace('other misc. pulses','pulses')\n",
    "                                    .replace('Moong(Green Gram)','pulses')\n",
    "                                    .replace('Urad','pulses')\n",
    "                                    .replace('Arhar/Tur','pulses')\n",
    "                                    .replace('Bean','pulses')\n",
    "                                    .replace('Ricebean (nagadal)','pulses')\n",
    "                                    .replace('Lentil','pulses')\n",
    "                                    .replace('Masoor','pulses')\n",
    "                                    .replace('Khesari','pulses')\n",
    "                                    .replace('Horse-gram','pulses')\n",
    "                                    .replace('Rajmash Kholar','pulses'))"
   ]
  },
  {
   "cell_type": "code",
   "execution_count": 21,
   "id": "eb27e908",
   "metadata": {},
   "outputs": [],
   "source": [
    "# Correcting few spelling mistakes\n",
    "crop['Crop'] = crop['Crop'].apply(lambda x : x.replace('Atcanut (Raw)','Arecanut')\n",
    "                                              .replace('Arcanut (Processed)','Arecanut')\n",
    "                                              .replace('Arecanut','Arecanut'))"
   ]
  },
  {
   "cell_type": "code",
   "execution_count": 22,
   "id": "b6b95fb2",
   "metadata": {},
   "outputs": [],
   "source": [
    "# we have replaced varienty of spices with othe spices\n",
    "crop['Crop'] = crop['Crop'].apply(lambda x : x.replace('Black pepper','Other Spices')\n",
    "                                                  .replace('Cardamom','Other Spices')\n",
    "                                                  .replace('Perilla','Other Spices'))"
   ]
  },
  {
   "cell_type": "code",
   "execution_count": 23,
   "id": "a5e38bc4",
   "metadata": {},
   "outputs": [],
   "source": [
    "#since number of rows for every fruits category were very less so we decided to megre all to fruits\n",
    "\n",
    "crop['Crop'] = crop['Crop'].apply(lambda x : x.replace('Papaya','Fruits')\n",
    "                                              .replace('Mango','Fruits')\n",
    "                                              .replace('Orange','Fruits')\n",
    "                                              .replace('Other Fresh Fruits','Fruits')\n",
    "                                              .replace('Pineapple','Fruits')\n",
    "                                              .replace('Citrus Fruit','Fruits')\n",
    "                                              .replace('Pome Fruit','Fruits')\n",
    "                                              .replace('Pome Granet','Fruits')\n",
    "                                              .replace('Grapes','Fruits')\n",
    "                                              .replace('Jack Fruit','Fruits')\n",
    "                                              .replace('Sapota','Fruits')\n",
    "                                              .replace('Lemon','Fruits'))"
   ]
  },
  {
   "cell_type": "code",
   "execution_count": 24,
   "id": "dd66ec5e",
   "metadata": {},
   "outputs": [],
   "source": [
    "# we have replace sub-category with their main-category\n",
    "\n",
    "crop['Crop'] = crop['Crop'].apply(lambda x : x.replace('Ginger','Dry ginger'))\n",
    "\n",
    "crop['Crop'] = crop['Crop'].apply(lambda x : x.replace('Turnip','Onion'))\n",
    "\n",
    "crop['Crop'] = crop['Crop'].apply(lambda x : x.replace('Cashewnut Raw','Cashewnut')\n",
    "                                              .replace('Cashewnut Processed','Cashewnut'))"
   ]
  },
  {
   "cell_type": "code",
   "execution_count": 25,
   "id": "23963b9c",
   "metadata": {},
   "outputs": [],
   "source": [
    "# we have replace sub-category of gram with their main-category\n",
    "\n",
    "crop['Crop'] = crop['Crop'].apply(lambda x : x.replace('black gram','gram')\n",
    "                                              .replace('Moth','gram')\n",
    "                                              .replace('Blackgram','gram'))"
   ]
  },
  {
   "cell_type": "code",
   "execution_count": 26,
   "id": "d4866aff",
   "metadata": {},
   "outputs": [],
   "source": [
    "# we have replace other Oilseeds total to  other oilseeds\n",
    "\n",
    "crop['Crop'] = crop['Crop'].apply(lambda x : x.replace('Oilseeds total' ,'other oilseeds')\n",
    "                                              .replace('Niger seed' ,'other oilseeds'))"
   ]
  },
  {
   "cell_type": "code",
   "execution_count": 27,
   "id": "1001bb19",
   "metadata": {},
   "outputs": [],
   "source": [
    "# we have replace sub-category of milltes with their main-category\n",
    "\n",
    "crop['Crop'] = crop['Crop'].apply(lambda x : x.replace('Other Cereals & Millets' ,'Bajra')\n",
    "                                              .replace('Samai' ,'Bajra')\n",
    "                                              .replace('Small millets' ,'Bajra')\n",
    "                                              .replace('Ragi','Bajra')\n",
    "                                              .replace('Varagu','Bajra')\n",
    "                                              .replace('Jobster','Bajra'))"
   ]
  },
  {
   "cell_type": "code",
   "execution_count": 28,
   "id": "fb01cccd",
   "metadata": {},
   "outputs": [],
   "source": [
    "# we have replace sub-category of Vegetables with their main-category \n",
    "\n",
    "crop['Crop'] = crop['Crop'].apply(lambda x : x.replace('Coriander' ,'Other Vegetables')\n",
    "                                              .replace('pulsess & Mutter(Vegetable)' ,'Other Vegetables')\n",
    "                                              .replace('Bhindi' ,'Other Vegetables')\n",
    "                                              .replace('Tomato','Other Vegetables')\n",
    "                                              .replace('Cowpea(Lobia)','Other Vegetables')\n",
    "                                              .replace('Cabbage','Other Vegetables')\n",
    "                                              .replace('Carrot','Other Vegetables')\n",
    "                                              .replace('Drum Stick','Other Vegetables')\n",
    "                                              .replace('Redish','Other Vegetables')\n",
    "                                              .replace('Cauliflower','Other Vegetables')\n",
    "                                              .replace('Colocosia','Other Vegetables')\n",
    "                                              .replace('Brinjal','Other Vegetables')\n",
    "                                              .replace('Bottle Gourd','Other Vegetables')\n",
    "                                              .replace('Bitter Gourd','Other Vegetables'))"
   ]
  },
  {
   "cell_type": "code",
   "execution_count": 29,
   "id": "2bba58a5",
   "metadata": {},
   "outputs": [],
   "source": [
    "#we have replace sub-category with their main-category\n",
    "\n",
    "crop['Crop'] = crop['Crop'].apply(lambda x:x.replace('Niger seed','Sesamum'))\n",
    "crop['Crop'] = crop['Crop'].apply(lambda x:x.replace('Korra','Total foodgrain'))\n",
    "crop['Crop'] = crop['Crop'].apply(lambda x:x.replace('Paddy','Rice'))"
   ]
  },
  {
   "cell_type": "code",
   "execution_count": 30,
   "id": "fdccfe6d",
   "metadata": {},
   "outputs": [],
   "source": [
    "#we have observed some cropes rows are very very less so it wont make any sense to visualization so we decided to drop those rows\n",
    "\n",
    "crop.drop(crop[crop['Crop'] == 'Tea'].index,inplace=True)\n",
    "crop.drop(crop[crop['Crop'] == 'Coffee'].index,inplace=True)\n",
    "crop.drop(crop[crop['Crop'] == 'Rubber'].index,inplace=True)\n",
    "crop.drop(crop[crop['Crop'] == 'Cond-spcs other'].index,inplace=True)"
   ]
  },
  {
   "cell_type": "code",
   "execution_count": 31,
   "id": "e25731e3",
   "metadata": {
    "scrolled": true
   },
   "outputs": [
    {
     "data": {
      "text/plain": [
       "array(['Arecanut', 'pulses', 'Rice', 'Banana', 'Cashewnut', 'Coconut',\n",
       "       'Dry ginger', 'Sugarcane', 'Sweet potato', 'Tapioca',\n",
       "       'Other Spices', 'Dry chillies', 'other oilseeds', 'Turmeric',\n",
       "       'Maize', 'Groundnut', 'Sunflower', 'Bajra', 'Castor seed',\n",
       "       'Cotton', 'Jowar', 'Total foodgrain', 'Tobacco', 'Gram', 'Wheat',\n",
       "       'Sesamum', 'Linseed', 'Safflower', 'Onion', 'Other Vegetables',\n",
       "       'Potato', 'Fruits', 'Soyabean', 'Jute', 'Rapeseed &Mustard',\n",
       "       'Garlic', 'gram', 'Barley', 'Sannhamp', 'Guar seed'], dtype=object)"
      ]
     },
     "execution_count": 31,
     "metadata": {},
     "output_type": "execute_result"
    }
   ],
   "source": [
    "# checking unique crops types after replacement\n",
    "crop.Crop.unique()"
   ]
  },
  {
   "cell_type": "code",
   "execution_count": 32,
   "id": "8adfcc38",
   "metadata": {
    "scrolled": true
   },
   "outputs": [
    {
     "data": {
      "text/html": [
       "<div>\n",
       "<style scoped>\n",
       "    .dataframe tbody tr th:only-of-type {\n",
       "        vertical-align: middle;\n",
       "    }\n",
       "\n",
       "    .dataframe tbody tr th {\n",
       "        vertical-align: top;\n",
       "    }\n",
       "\n",
       "    .dataframe thead th {\n",
       "        text-align: right;\n",
       "    }\n",
       "</style>\n",
       "<table border=\"1\" class=\"dataframe\">\n",
       "  <thead>\n",
       "    <tr style=\"text-align: right;\">\n",
       "      <th></th>\n",
       "      <th>State_Name</th>\n",
       "      <th>District_Name</th>\n",
       "      <th>Crop_Year</th>\n",
       "      <th>Season</th>\n",
       "      <th>Crop</th>\n",
       "      <th>Area</th>\n",
       "      <th>Production</th>\n",
       "    </tr>\n",
       "  </thead>\n",
       "  <tbody>\n",
       "    <tr>\n",
       "      <th>0</th>\n",
       "      <td>Andaman and Nicobar Islands</td>\n",
       "      <td>NICOBARS</td>\n",
       "      <td>2000</td>\n",
       "      <td>Kharif</td>\n",
       "      <td>Arecanut</td>\n",
       "      <td>1254.0</td>\n",
       "      <td>2000.0</td>\n",
       "    </tr>\n",
       "    <tr>\n",
       "      <th>1</th>\n",
       "      <td>Andaman and Nicobar Islands</td>\n",
       "      <td>NICOBARS</td>\n",
       "      <td>2000</td>\n",
       "      <td>Kharif</td>\n",
       "      <td>pulses</td>\n",
       "      <td>2.0</td>\n",
       "      <td>1.0</td>\n",
       "    </tr>\n",
       "    <tr>\n",
       "      <th>2</th>\n",
       "      <td>Andaman and Nicobar Islands</td>\n",
       "      <td>NICOBARS</td>\n",
       "      <td>2000</td>\n",
       "      <td>Kharif</td>\n",
       "      <td>Rice</td>\n",
       "      <td>102.0</td>\n",
       "      <td>321.0</td>\n",
       "    </tr>\n",
       "    <tr>\n",
       "      <th>3</th>\n",
       "      <td>Andaman and Nicobar Islands</td>\n",
       "      <td>NICOBARS</td>\n",
       "      <td>2000</td>\n",
       "      <td>Whole Year</td>\n",
       "      <td>Banana</td>\n",
       "      <td>176.0</td>\n",
       "      <td>641.0</td>\n",
       "    </tr>\n",
       "    <tr>\n",
       "      <th>4</th>\n",
       "      <td>Andaman and Nicobar Islands</td>\n",
       "      <td>NICOBARS</td>\n",
       "      <td>2000</td>\n",
       "      <td>Whole Year</td>\n",
       "      <td>Cashewnut</td>\n",
       "      <td>720.0</td>\n",
       "      <td>165.0</td>\n",
       "    </tr>\n",
       "    <tr>\n",
       "      <th>...</th>\n",
       "      <td>...</td>\n",
       "      <td>...</td>\n",
       "      <td>...</td>\n",
       "      <td>...</td>\n",
       "      <td>...</td>\n",
       "      <td>...</td>\n",
       "      <td>...</td>\n",
       "    </tr>\n",
       "    <tr>\n",
       "      <th>246086</th>\n",
       "      <td>West Bengal</td>\n",
       "      <td>PURULIA</td>\n",
       "      <td>2014</td>\n",
       "      <td>Kharif</td>\n",
       "      <td>Rice</td>\n",
       "      <td>306.0</td>\n",
       "      <td>801.0</td>\n",
       "    </tr>\n",
       "    <tr>\n",
       "      <th>246087</th>\n",
       "      <td>West Bengal</td>\n",
       "      <td>PURULIA</td>\n",
       "      <td>2014</td>\n",
       "      <td>Kharif</td>\n",
       "      <td>Sesamum</td>\n",
       "      <td>627.0</td>\n",
       "      <td>463.0</td>\n",
       "    </tr>\n",
       "    <tr>\n",
       "      <th>246088</th>\n",
       "      <td>West Bengal</td>\n",
       "      <td>PURULIA</td>\n",
       "      <td>2014</td>\n",
       "      <td>Whole Year</td>\n",
       "      <td>Sugarcane</td>\n",
       "      <td>324.0</td>\n",
       "      <td>16250.0</td>\n",
       "    </tr>\n",
       "    <tr>\n",
       "      <th>246089</th>\n",
       "      <td>West Bengal</td>\n",
       "      <td>PURULIA</td>\n",
       "      <td>2014</td>\n",
       "      <td>Rabi</td>\n",
       "      <td>Rice</td>\n",
       "      <td>279151.0</td>\n",
       "      <td>597899.0</td>\n",
       "    </tr>\n",
       "    <tr>\n",
       "      <th>246090</th>\n",
       "      <td>West Bengal</td>\n",
       "      <td>PURULIA</td>\n",
       "      <td>2014</td>\n",
       "      <td>Rabi</td>\n",
       "      <td>Sesamum</td>\n",
       "      <td>175.0</td>\n",
       "      <td>88.0</td>\n",
       "    </tr>\n",
       "  </tbody>\n",
       "</table>\n",
       "<p>238723 rows × 7 columns</p>\n",
       "</div>"
      ],
      "text/plain": [
       "                         State_Name District_Name  Crop_Year      Season  \\\n",
       "0       Andaman and Nicobar Islands      NICOBARS       2000      Kharif   \n",
       "1       Andaman and Nicobar Islands      NICOBARS       2000      Kharif   \n",
       "2       Andaman and Nicobar Islands      NICOBARS       2000      Kharif   \n",
       "3       Andaman and Nicobar Islands      NICOBARS       2000  Whole Year   \n",
       "4       Andaman and Nicobar Islands      NICOBARS       2000  Whole Year   \n",
       "...                             ...           ...        ...         ...   \n",
       "246086                  West Bengal       PURULIA       2014      Kharif   \n",
       "246087                  West Bengal       PURULIA       2014      Kharif   \n",
       "246088                  West Bengal       PURULIA       2014  Whole Year   \n",
       "246089                  West Bengal       PURULIA       2014        Rabi   \n",
       "246090                  West Bengal       PURULIA       2014        Rabi   \n",
       "\n",
       "             Crop      Area  Production  \n",
       "0        Arecanut    1254.0      2000.0  \n",
       "1          pulses       2.0         1.0  \n",
       "2            Rice     102.0       321.0  \n",
       "3          Banana     176.0       641.0  \n",
       "4       Cashewnut     720.0       165.0  \n",
       "...           ...       ...         ...  \n",
       "246086       Rice     306.0       801.0  \n",
       "246087    Sesamum     627.0       463.0  \n",
       "246088  Sugarcane     324.0     16250.0  \n",
       "246089       Rice  279151.0    597899.0  \n",
       "246090    Sesamum     175.0        88.0  \n",
       "\n",
       "[238723 rows x 7 columns]"
      ]
     },
     "execution_count": 32,
     "metadata": {},
     "output_type": "execute_result"
    }
   ],
   "source": [
    "crop"
   ]
  },
  {
   "cell_type": "code",
   "execution_count": 34,
   "id": "373d7f20",
   "metadata": {},
   "outputs": [],
   "source": [
    "crop.to_csv(r'E:\\Data Analysis\\Project\\Crop\\crop_production_cleaned_new.csv')"
   ]
  },
  {
   "cell_type": "code",
   "execution_count": 35,
   "id": "ff24a7e8",
   "metadata": {},
   "outputs": [],
   "source": [
    "# to find outlier we created new column Producation_area_factor\n",
    "\n",
    "crop['Producation_area_factor'] = crop['Production'] / crop['Area']"
   ]
  },
  {
   "cell_type": "code",
   "execution_count": 36,
   "id": "9a5f2932",
   "metadata": {},
   "outputs": [
    {
     "data": {
      "text/html": [
       "<div>\n",
       "<style scoped>\n",
       "    .dataframe tbody tr th:only-of-type {\n",
       "        vertical-align: middle;\n",
       "    }\n",
       "\n",
       "    .dataframe tbody tr th {\n",
       "        vertical-align: top;\n",
       "    }\n",
       "\n",
       "    .dataframe thead th {\n",
       "        text-align: right;\n",
       "    }\n",
       "</style>\n",
       "<table border=\"1\" class=\"dataframe\">\n",
       "  <thead>\n",
       "    <tr style=\"text-align: right;\">\n",
       "      <th></th>\n",
       "      <th>State_Name</th>\n",
       "      <th>District_Name</th>\n",
       "      <th>Crop_Year</th>\n",
       "      <th>Season</th>\n",
       "      <th>Crop</th>\n",
       "      <th>Area</th>\n",
       "      <th>Production</th>\n",
       "      <th>Producation_area_factor</th>\n",
       "    </tr>\n",
       "  </thead>\n",
       "  <tbody>\n",
       "    <tr>\n",
       "      <th>0</th>\n",
       "      <td>Andaman and Nicobar Islands</td>\n",
       "      <td>NICOBARS</td>\n",
       "      <td>2000</td>\n",
       "      <td>Kharif</td>\n",
       "      <td>Arecanut</td>\n",
       "      <td>1254.0</td>\n",
       "      <td>2000.0</td>\n",
       "      <td>1.594896</td>\n",
       "    </tr>\n",
       "    <tr>\n",
       "      <th>1</th>\n",
       "      <td>Andaman and Nicobar Islands</td>\n",
       "      <td>NICOBARS</td>\n",
       "      <td>2000</td>\n",
       "      <td>Kharif</td>\n",
       "      <td>pulses</td>\n",
       "      <td>2.0</td>\n",
       "      <td>1.0</td>\n",
       "      <td>0.500000</td>\n",
       "    </tr>\n",
       "    <tr>\n",
       "      <th>2</th>\n",
       "      <td>Andaman and Nicobar Islands</td>\n",
       "      <td>NICOBARS</td>\n",
       "      <td>2000</td>\n",
       "      <td>Kharif</td>\n",
       "      <td>Rice</td>\n",
       "      <td>102.0</td>\n",
       "      <td>321.0</td>\n",
       "      <td>3.147059</td>\n",
       "    </tr>\n",
       "    <tr>\n",
       "      <th>3</th>\n",
       "      <td>Andaman and Nicobar Islands</td>\n",
       "      <td>NICOBARS</td>\n",
       "      <td>2000</td>\n",
       "      <td>Whole Year</td>\n",
       "      <td>Banana</td>\n",
       "      <td>176.0</td>\n",
       "      <td>641.0</td>\n",
       "      <td>3.642045</td>\n",
       "    </tr>\n",
       "    <tr>\n",
       "      <th>4</th>\n",
       "      <td>Andaman and Nicobar Islands</td>\n",
       "      <td>NICOBARS</td>\n",
       "      <td>2000</td>\n",
       "      <td>Whole Year</td>\n",
       "      <td>Cashewnut</td>\n",
       "      <td>720.0</td>\n",
       "      <td>165.0</td>\n",
       "      <td>0.229167</td>\n",
       "    </tr>\n",
       "    <tr>\n",
       "      <th>...</th>\n",
       "      <td>...</td>\n",
       "      <td>...</td>\n",
       "      <td>...</td>\n",
       "      <td>...</td>\n",
       "      <td>...</td>\n",
       "      <td>...</td>\n",
       "      <td>...</td>\n",
       "      <td>...</td>\n",
       "    </tr>\n",
       "    <tr>\n",
       "      <th>246086</th>\n",
       "      <td>West Bengal</td>\n",
       "      <td>PURULIA</td>\n",
       "      <td>2014</td>\n",
       "      <td>Kharif</td>\n",
       "      <td>Rice</td>\n",
       "      <td>306.0</td>\n",
       "      <td>801.0</td>\n",
       "      <td>2.617647</td>\n",
       "    </tr>\n",
       "    <tr>\n",
       "      <th>246087</th>\n",
       "      <td>West Bengal</td>\n",
       "      <td>PURULIA</td>\n",
       "      <td>2014</td>\n",
       "      <td>Kharif</td>\n",
       "      <td>Sesamum</td>\n",
       "      <td>627.0</td>\n",
       "      <td>463.0</td>\n",
       "      <td>0.738437</td>\n",
       "    </tr>\n",
       "    <tr>\n",
       "      <th>246088</th>\n",
       "      <td>West Bengal</td>\n",
       "      <td>PURULIA</td>\n",
       "      <td>2014</td>\n",
       "      <td>Whole Year</td>\n",
       "      <td>Sugarcane</td>\n",
       "      <td>324.0</td>\n",
       "      <td>16250.0</td>\n",
       "      <td>50.154321</td>\n",
       "    </tr>\n",
       "    <tr>\n",
       "      <th>246089</th>\n",
       "      <td>West Bengal</td>\n",
       "      <td>PURULIA</td>\n",
       "      <td>2014</td>\n",
       "      <td>Rabi</td>\n",
       "      <td>Rice</td>\n",
       "      <td>279151.0</td>\n",
       "      <td>597899.0</td>\n",
       "      <td>2.141848</td>\n",
       "    </tr>\n",
       "    <tr>\n",
       "      <th>246090</th>\n",
       "      <td>West Bengal</td>\n",
       "      <td>PURULIA</td>\n",
       "      <td>2014</td>\n",
       "      <td>Rabi</td>\n",
       "      <td>Sesamum</td>\n",
       "      <td>175.0</td>\n",
       "      <td>88.0</td>\n",
       "      <td>0.502857</td>\n",
       "    </tr>\n",
       "  </tbody>\n",
       "</table>\n",
       "<p>238723 rows × 8 columns</p>\n",
       "</div>"
      ],
      "text/plain": [
       "                         State_Name District_Name  Crop_Year      Season  \\\n",
       "0       Andaman and Nicobar Islands      NICOBARS       2000      Kharif   \n",
       "1       Andaman and Nicobar Islands      NICOBARS       2000      Kharif   \n",
       "2       Andaman and Nicobar Islands      NICOBARS       2000      Kharif   \n",
       "3       Andaman and Nicobar Islands      NICOBARS       2000  Whole Year   \n",
       "4       Andaman and Nicobar Islands      NICOBARS       2000  Whole Year   \n",
       "...                             ...           ...        ...         ...   \n",
       "246086                  West Bengal       PURULIA       2014      Kharif   \n",
       "246087                  West Bengal       PURULIA       2014      Kharif   \n",
       "246088                  West Bengal       PURULIA       2014  Whole Year   \n",
       "246089                  West Bengal       PURULIA       2014        Rabi   \n",
       "246090                  West Bengal       PURULIA       2014        Rabi   \n",
       "\n",
       "             Crop      Area  Production  Producation_area_factor  \n",
       "0        Arecanut    1254.0      2000.0                 1.594896  \n",
       "1          pulses       2.0         1.0                 0.500000  \n",
       "2            Rice     102.0       321.0                 3.147059  \n",
       "3          Banana     176.0       641.0                 3.642045  \n",
       "4       Cashewnut     720.0       165.0                 0.229167  \n",
       "...           ...       ...         ...                      ...  \n",
       "246086       Rice     306.0       801.0                 2.617647  \n",
       "246087    Sesamum     627.0       463.0                 0.738437  \n",
       "246088  Sugarcane     324.0     16250.0                50.154321  \n",
       "246089       Rice  279151.0    597899.0                 2.141848  \n",
       "246090    Sesamum     175.0        88.0                 0.502857  \n",
       "\n",
       "[238723 rows x 8 columns]"
      ]
     },
     "execution_count": 36,
     "metadata": {},
     "output_type": "execute_result"
    }
   ],
   "source": [
    "# checking newly created column \n",
    "crop"
   ]
  },
  {
   "cell_type": "markdown",
   "id": "7251e697",
   "metadata": {},
   "source": [
    "**Finding outlier**"
   ]
  },
  {
   "cell_type": "code",
   "execution_count": 37,
   "id": "a8758038",
   "metadata": {},
   "outputs": [
    {
     "data": {
      "text/plain": [
       "(91.0, 4700.0)"
      ]
     },
     "execution_count": 37,
     "metadata": {},
     "output_type": "execute_result"
    }
   ],
   "source": [
    "Q1 = crop['Area'].quantile(0.25)\n",
    "Q3 = crop['Area'].quantile(0.75)\n",
    "Q1, Q3"
   ]
  },
  {
   "cell_type": "code",
   "execution_count": 38,
   "id": "7ce4d75c",
   "metadata": {},
   "outputs": [],
   "source": [
    "IQR = Q3 - Q1"
   ]
  },
  {
   "cell_type": "code",
   "execution_count": 39,
   "id": "8cb9dc5f",
   "metadata": {},
   "outputs": [
    {
     "data": {
      "text/plain": [
       "(-6822.5, 11613.5)"
      ]
     },
     "execution_count": 39,
     "metadata": {},
     "output_type": "execute_result"
    }
   ],
   "source": [
    "lower_fence = Q1 - 1.5*IQR\n",
    "higher_fence = Q3 + 1.5*IQR\n",
    "lower_fence,higher_fence"
   ]
  },
  {
   "cell_type": "code",
   "execution_count": 40,
   "id": "9632a3db",
   "metadata": {},
   "outputs": [],
   "source": [
    "area_outlier = crop[(crop['Area'] < lower_fence) | (crop['Area'] > higher_fence)]"
   ]
  },
  {
   "cell_type": "code",
   "execution_count": 41,
   "id": "d7b8105d",
   "metadata": {},
   "outputs": [
    {
     "data": {
      "text/plain": [
       "Rice                 9138\n",
       "Wheat                5080\n",
       "pulses               4668\n",
       "Maize                2514\n",
       "Bajra                2312\n",
       "Gram                 1974\n",
       "Jowar                1902\n",
       "Cotton               1474\n",
       "Rapeseed &Mustard    1469\n",
       "Groundnut            1449\n",
       "Sugarcane            1321\n",
       "Soyabean             1069\n",
       "Sesamum               574\n",
       "Coconut               556\n",
       "Sunflower             498\n",
       "Potato                387\n",
       "Jute                  298\n",
       "Guar seed             246\n",
       "Castor seed           241\n",
       "other oilseeds        238\n",
       "Dry chillies          173\n",
       "Arecanut              169\n",
       "Cashewnut             163\n",
       "Barley                154\n",
       "Total foodgrain       153\n",
       "Tobacco               144\n",
       "Safflower             137\n",
       "Other Vegetables      111\n",
       "gram                  103\n",
       "Linseed                99\n",
       "Tapioca                93\n",
       "Onion                  83\n",
       "Other Spices           71\n",
       "Fruits                 63\n",
       "Banana                 33\n",
       "Turmeric               30\n",
       "Garlic                 11\n",
       "Dry ginger              6\n",
       "Name: Crop, dtype: int64"
      ]
     },
     "execution_count": 41,
     "metadata": {},
     "output_type": "execute_result"
    }
   ],
   "source": [
    "area_outlier['Crop'].value_counts()"
   ]
  },
  {
   "cell_type": "markdown",
   "id": "351f3cae",
   "metadata": {},
   "source": [
    "**Deviding the state into 4 different zone for better analysis**"
   ]
  },
  {
   "cell_type": "code",
   "execution_count": 42,
   "id": "c6af1dbc",
   "metadata": {},
   "outputs": [],
   "source": [
    "West_India= ['Maharashtra','Goa','Gujarat','Dadra and Nagar Haveli']\n",
    "East_India= ['Arunachal Pradesh','Assam','Manipur','Meghalaya','Mizoram','Nagaland','Sikkim','Tripura','West Bengal','Bihar','Odisha','Jharkhand' ]\n",
    "North_India=['Jammu and Kashmir ','Himachal Pradesh','Punjab','Uttarakhand','Haryana','Rajasthan','Uttar Pradesh','Chandigarh','Madhya Pradesh','Chhattisgarh']   # Delhi\n",
    "South_India = ['Andhra Pradesh','Karnataka','Kerala','Tamil Nadu','Telangana','Puducherry']"
   ]
  },
  {
   "cell_type": "code",
   "execution_count": 43,
   "id": "136e5968",
   "metadata": {},
   "outputs": [],
   "source": [
    "# creating a list for zones\n",
    "zone = []\n",
    "\n",
    "for state in crop['State_Name']:\n",
    "    if state in West_India:\n",
    "         zone.append('West India')\n",
    "    elif state in East_India:\n",
    "         zone.append('East India')\n",
    "    elif state in North_India:\n",
    "         zone.append('North India')\n",
    "    elif state in South_India: \n",
    "         zone.append('South India')\n",
    "    else:\n",
    "         zone.append('Union Territory')"
   ]
  },
  {
   "cell_type": "code",
   "execution_count": 44,
   "id": "6f6da5c3",
   "metadata": {},
   "outputs": [],
   "source": [
    "# creatinh new column \n",
    "crop['zone'] = zone"
   ]
  },
  {
   "cell_type": "code",
   "execution_count": 45,
   "id": "ff5894c0",
   "metadata": {
    "scrolled": true
   },
   "outputs": [
    {
     "data": {
      "text/html": [
       "<div>\n",
       "<style scoped>\n",
       "    .dataframe tbody tr th:only-of-type {\n",
       "        vertical-align: middle;\n",
       "    }\n",
       "\n",
       "    .dataframe tbody tr th {\n",
       "        vertical-align: top;\n",
       "    }\n",
       "\n",
       "    .dataframe thead th {\n",
       "        text-align: right;\n",
       "    }\n",
       "</style>\n",
       "<table border=\"1\" class=\"dataframe\">\n",
       "  <thead>\n",
       "    <tr style=\"text-align: right;\">\n",
       "      <th></th>\n",
       "      <th>State_Name</th>\n",
       "      <th>District_Name</th>\n",
       "      <th>Crop_Year</th>\n",
       "      <th>Season</th>\n",
       "      <th>Crop</th>\n",
       "      <th>Area</th>\n",
       "      <th>Production</th>\n",
       "      <th>Producation_area_factor</th>\n",
       "      <th>zone</th>\n",
       "    </tr>\n",
       "  </thead>\n",
       "  <tbody>\n",
       "    <tr>\n",
       "      <th>0</th>\n",
       "      <td>Andaman and Nicobar Islands</td>\n",
       "      <td>NICOBARS</td>\n",
       "      <td>2000</td>\n",
       "      <td>Kharif</td>\n",
       "      <td>Arecanut</td>\n",
       "      <td>1254.0</td>\n",
       "      <td>2000.0</td>\n",
       "      <td>1.594896</td>\n",
       "      <td>Union Territory</td>\n",
       "    </tr>\n",
       "    <tr>\n",
       "      <th>1</th>\n",
       "      <td>Andaman and Nicobar Islands</td>\n",
       "      <td>NICOBARS</td>\n",
       "      <td>2000</td>\n",
       "      <td>Kharif</td>\n",
       "      <td>pulses</td>\n",
       "      <td>2.0</td>\n",
       "      <td>1.0</td>\n",
       "      <td>0.500000</td>\n",
       "      <td>Union Territory</td>\n",
       "    </tr>\n",
       "    <tr>\n",
       "      <th>2</th>\n",
       "      <td>Andaman and Nicobar Islands</td>\n",
       "      <td>NICOBARS</td>\n",
       "      <td>2000</td>\n",
       "      <td>Kharif</td>\n",
       "      <td>Rice</td>\n",
       "      <td>102.0</td>\n",
       "      <td>321.0</td>\n",
       "      <td>3.147059</td>\n",
       "      <td>Union Territory</td>\n",
       "    </tr>\n",
       "    <tr>\n",
       "      <th>3</th>\n",
       "      <td>Andaman and Nicobar Islands</td>\n",
       "      <td>NICOBARS</td>\n",
       "      <td>2000</td>\n",
       "      <td>Whole Year</td>\n",
       "      <td>Banana</td>\n",
       "      <td>176.0</td>\n",
       "      <td>641.0</td>\n",
       "      <td>3.642045</td>\n",
       "      <td>Union Territory</td>\n",
       "    </tr>\n",
       "    <tr>\n",
       "      <th>4</th>\n",
       "      <td>Andaman and Nicobar Islands</td>\n",
       "      <td>NICOBARS</td>\n",
       "      <td>2000</td>\n",
       "      <td>Whole Year</td>\n",
       "      <td>Cashewnut</td>\n",
       "      <td>720.0</td>\n",
       "      <td>165.0</td>\n",
       "      <td>0.229167</td>\n",
       "      <td>Union Territory</td>\n",
       "    </tr>\n",
       "    <tr>\n",
       "      <th>5</th>\n",
       "      <td>Andaman and Nicobar Islands</td>\n",
       "      <td>NICOBARS</td>\n",
       "      <td>2000</td>\n",
       "      <td>Whole Year</td>\n",
       "      <td>Coconut</td>\n",
       "      <td>18168.0</td>\n",
       "      <td>65100000.0</td>\n",
       "      <td>3583.223250</td>\n",
       "      <td>Union Territory</td>\n",
       "    </tr>\n",
       "    <tr>\n",
       "      <th>6</th>\n",
       "      <td>Andaman and Nicobar Islands</td>\n",
       "      <td>NICOBARS</td>\n",
       "      <td>2000</td>\n",
       "      <td>Whole Year</td>\n",
       "      <td>Dry ginger</td>\n",
       "      <td>36.0</td>\n",
       "      <td>100.0</td>\n",
       "      <td>2.777778</td>\n",
       "      <td>Union Territory</td>\n",
       "    </tr>\n",
       "    <tr>\n",
       "      <th>7</th>\n",
       "      <td>Andaman and Nicobar Islands</td>\n",
       "      <td>NICOBARS</td>\n",
       "      <td>2000</td>\n",
       "      <td>Whole Year</td>\n",
       "      <td>Sugarcane</td>\n",
       "      <td>1.0</td>\n",
       "      <td>2.0</td>\n",
       "      <td>2.000000</td>\n",
       "      <td>Union Territory</td>\n",
       "    </tr>\n",
       "    <tr>\n",
       "      <th>8</th>\n",
       "      <td>Andaman and Nicobar Islands</td>\n",
       "      <td>NICOBARS</td>\n",
       "      <td>2000</td>\n",
       "      <td>Whole Year</td>\n",
       "      <td>Sweet potato</td>\n",
       "      <td>5.0</td>\n",
       "      <td>15.0</td>\n",
       "      <td>3.000000</td>\n",
       "      <td>Union Territory</td>\n",
       "    </tr>\n",
       "    <tr>\n",
       "      <th>9</th>\n",
       "      <td>Andaman and Nicobar Islands</td>\n",
       "      <td>NICOBARS</td>\n",
       "      <td>2000</td>\n",
       "      <td>Whole Year</td>\n",
       "      <td>Tapioca</td>\n",
       "      <td>40.0</td>\n",
       "      <td>169.0</td>\n",
       "      <td>4.225000</td>\n",
       "      <td>Union Territory</td>\n",
       "    </tr>\n",
       "  </tbody>\n",
       "</table>\n",
       "</div>"
      ],
      "text/plain": [
       "                    State_Name District_Name  Crop_Year      Season  \\\n",
       "0  Andaman and Nicobar Islands      NICOBARS       2000      Kharif   \n",
       "1  Andaman and Nicobar Islands      NICOBARS       2000      Kharif   \n",
       "2  Andaman and Nicobar Islands      NICOBARS       2000      Kharif   \n",
       "3  Andaman and Nicobar Islands      NICOBARS       2000  Whole Year   \n",
       "4  Andaman and Nicobar Islands      NICOBARS       2000  Whole Year   \n",
       "5  Andaman and Nicobar Islands      NICOBARS       2000  Whole Year   \n",
       "6  Andaman and Nicobar Islands      NICOBARS       2000  Whole Year   \n",
       "7  Andaman and Nicobar Islands      NICOBARS       2000  Whole Year   \n",
       "8  Andaman and Nicobar Islands      NICOBARS       2000  Whole Year   \n",
       "9  Andaman and Nicobar Islands      NICOBARS       2000  Whole Year   \n",
       "\n",
       "           Crop     Area  Production  Producation_area_factor             zone  \n",
       "0      Arecanut   1254.0      2000.0                 1.594896  Union Territory  \n",
       "1        pulses      2.0         1.0                 0.500000  Union Territory  \n",
       "2          Rice    102.0       321.0                 3.147059  Union Territory  \n",
       "3        Banana    176.0       641.0                 3.642045  Union Territory  \n",
       "4     Cashewnut    720.0       165.0                 0.229167  Union Territory  \n",
       "5       Coconut  18168.0  65100000.0              3583.223250  Union Territory  \n",
       "6    Dry ginger     36.0       100.0                 2.777778  Union Territory  \n",
       "7     Sugarcane      1.0         2.0                 2.000000  Union Territory  \n",
       "8  Sweet potato      5.0        15.0                 3.000000  Union Territory  \n",
       "9       Tapioca     40.0       169.0                 4.225000  Union Territory  "
      ]
     },
     "execution_count": 45,
     "metadata": {},
     "output_type": "execute_result"
    }
   ],
   "source": [
    "crop.head(10)"
   ]
  },
  {
   "cell_type": "markdown",
   "id": "195cdbe2",
   "metadata": {},
   "source": [
    "**Exporting Cleaned dataset for visualization**"
   ]
  },
  {
   "cell_type": "code",
   "execution_count": 66,
   "id": "a30d6c04",
   "metadata": {},
   "outputs": [],
   "source": [
    "# crop.to_csv(r'E:\\Data Analysis\\Project\\Crop\\crop_production_cleaned.csv')"
   ]
  },
  {
   "cell_type": "code",
   "execution_count": 46,
   "id": "a120059f",
   "metadata": {},
   "outputs": [
    {
     "data": {
      "text/plain": [
       "North India        91162\n",
       "East India         71482\n",
       "South India        53059\n",
       "West India         21229\n",
       "Union Territory     1791\n",
       "Name: zone, dtype: int64"
      ]
     },
     "execution_count": 46,
     "metadata": {},
     "output_type": "execute_result"
    }
   ],
   "source": [
    "crop['zone'].value_counts()"
   ]
  },
  {
   "cell_type": "code",
   "execution_count": 47,
   "id": "60b8df6e",
   "metadata": {},
   "outputs": [
    {
     "data": {
      "text/plain": [
       "State_Name                 0\n",
       "District_Name              0\n",
       "Crop_Year                  0\n",
       "Season                     0\n",
       "Crop                       0\n",
       "Area                       0\n",
       "Production                 0\n",
       "Producation_area_factor    0\n",
       "zone                       0\n",
       "dtype: int64"
      ]
     },
     "execution_count": 47,
     "metadata": {},
     "output_type": "execute_result"
    }
   ],
   "source": [
    "crop.isnull().sum()"
   ]
  },
  {
   "cell_type": "code",
   "execution_count": 50,
   "id": "29fb893c",
   "metadata": {},
   "outputs": [
    {
     "data": {
      "text/plain": [
       "2003    15541\n",
       "2002    15060\n",
       "2007    14261\n",
       "2008    14230\n",
       "2006    13976\n",
       "2004    13834\n",
       "2010    13793\n",
       "2011    13791\n",
       "2009    13767\n",
       "2005    13519\n",
       "2013    13474\n",
       "2000    13393\n",
       "2012    13183\n",
       "2001    13107\n",
       "1999    12258\n",
       "1998    11262\n",
       "2014    10814\n",
       "1997     8899\n",
       "2015      561\n",
       "Name: Crop_Year, dtype: int64"
      ]
     },
     "execution_count": 50,
     "metadata": {},
     "output_type": "execute_result"
    }
   ],
   "source": [
    "# checking value counts of year in dataset\n",
    "\n",
    "crop['Crop_Year'].value_counts()"
   ]
  },
  {
   "cell_type": "code",
   "execution_count": 51,
   "id": "b3b3ceec",
   "metadata": {},
   "outputs": [],
   "source": [
    "# sinces the number of rows for year 2015 is very less so it will not give correct visualization for year 2015 \n",
    "# so we decided to remove it from dataset\n",
    "\n",
    "crop.drop(crop[crop['Crop_Year'] == 2015].index,inplace=True)"
   ]
  },
  {
   "cell_type": "code",
   "execution_count": 52,
   "id": "4721c509",
   "metadata": {},
   "outputs": [
    {
     "name": "stderr",
     "output_type": "stream",
     "text": [
      "C:\\Users\\Prashantha\\AppData\\Local\\Temp\\ipykernel_17900\\1617930290.py:1: FutureWarning: The default value of numeric_only in DataFrameGroupBy.sum is deprecated. In a future version, numeric_only will default to False. Either specify numeric_only or select only columns which should be valid for the function.\n",
      "  val = crop.groupby('Crop').sum().sort_values(by='Production',ascending = False)['Production'].values\n",
      "C:\\Users\\Prashantha\\AppData\\Local\\Temp\\ipykernel_17900\\1617930290.py:2: FutureWarning: The default value of numeric_only in DataFrameGroupBy.sum is deprecated. In a future version, numeric_only will default to False. Either specify numeric_only or select only columns which should be valid for the function.\n",
      "  lab = crop.groupby('Crop').sum().sort_values(by='Production',ascending = False)['Production'].index\n"
     ]
    }
   ],
   "source": [
    "val = crop.groupby('Crop').sum().sort_values(by='Production',ascending = False)['Production'].values\n",
    "lab = crop.groupby('Crop').sum().sort_values(by='Production',ascending = False)['Production'].index"
   ]
  },
  {
   "cell_type": "code",
   "execution_count": 53,
   "id": "1fb15571",
   "metadata": {},
   "outputs": [
    {
     "data": {
      "image/png": "[encoded data removed]",
      "text/plain": [
       "<Figure size 1000x800 with 1 Axes>"
      ]
     },
     "metadata": {},
     "output_type": "display_data"
    }
   ],
   "source": [
    "# we plotted pie chart of Production of different crops to check the outliers in crops\n",
    "\n",
    "plt.figure(figsize=(10,8))\n",
    "plt.pie(val, labels = lab, autopct = '%0.1f%%')\n",
    "plt.show()"
   ]
  },
  {
   "cell_type": "code",
   "execution_count": 54,
   "id": "4abdba1c",
   "metadata": {},
   "outputs": [],
   "source": [
    "# we have observed that Production of coconut is more than 92% of total Production so we not able to visualize our dataset\n",
    "# so we have decided to visualize coconut seprately\n",
    "\n",
    "coconut = crop[crop['Crop'] == 'Coconut']\n",
    "\n",
    "coconut.to_csv(r'E:\\Data Analysis\\Project\\Crop\\coconut.csv')\n",
    "\n",
    "crop.drop(crop[crop['Crop']=='Coconut'].index,inplace=True)"
   ]
  },
  {
   "cell_type": "code",
   "execution_count": 55,
   "id": "ef76de95",
   "metadata": {},
   "outputs": [
    {
     "name": "stderr",
     "output_type": "stream",
     "text": [
      "C:\\Users\\Prashantha\\AppData\\Local\\Temp\\ipykernel_17900\\3343666810.py:3: FutureWarning: The default value of numeric_only in DataFrameGroupBy.sum is deprecated. In a future version, numeric_only will default to False. Either specify numeric_only or select only columns which should be valid for the function.\n",
      "  val = crop.groupby('Crop').sum().sort_values(by='Production',ascending = False)['Production'].values\n",
      "C:\\Users\\Prashantha\\AppData\\Local\\Temp\\ipykernel_17900\\3343666810.py:4: FutureWarning: The default value of numeric_only in DataFrameGroupBy.sum is deprecated. In a future version, numeric_only will default to False. Either specify numeric_only or select only columns which should be valid for the function.\n",
      "  lab = crop.groupby('Crop').sum().sort_values(by='Production',ascending = False)['Production'].index\n"
     ]
    }
   ],
   "source": [
    "# we plotted pie chart between total Production and different types of crops after removing outlier \n",
    "\n",
    "val = crop.groupby('Crop').sum().sort_values(by='Production',ascending = False)['Production'].values\n",
    "lab = crop.groupby('Crop').sum().sort_values(by='Production',ascending = False)['Production'].index"
   ]
  },
  {
   "cell_type": "code",
   "execution_count": 56,
   "id": "653a1c83",
   "metadata": {},
   "outputs": [
    {
     "data": {
      "image/png": "[encoded data removed]",
      "text/plain": [
       "<Figure size 1000x800 with 1 Axes>"
      ]
     },
     "metadata": {},
     "output_type": "display_data"
    }
   ],
   "source": [
    "# we have observed that now our dataset is balance\n",
    "\n",
    "plt.figure(figsize=(10,8))\n",
    "plt.pie(val,labels=lab,autopct='%0.1f%%')\n",
    "plt.show()"
   ]
  },
  {
   "cell_type": "code",
   "execution_count": 57,
   "id": "70b511fa",
   "metadata": {},
   "outputs": [],
   "source": [
    "crop.to_csv(r'E:\\Data Analysis\\Project\\Crop\\crop_final_new.csv')"
   ]
  },
  {
   "cell_type": "markdown",
   "id": "f78acd3c",
   "metadata": {},
   "source": [
    "# conclusion"
   ]
  },
  {
   "cell_type": "markdown",
   "id": "5aae0e94",
   "metadata": {},
   "source": [
    "*Since we have found out that number of outliers are almost approx 20% and 46000k in numbers so we can not remove these outliers to avoide loss of information and producation also depends types soil and area,availability of water to farmer\n",
    "so we dont have much information about these other factors so we cant not remove outliers on basis of Producation_area_factor  \n",
    "Producation_area_factor can not be same for all crops sinces this factors is hihh for coconut and very less for total_foodgrain\n",
    "so we cant not compare both on one scale we have observed that Production of coconut is more than 92% of total Production so we not able to visualize our dataset so we have decided to consider coconut as an outlier and we have removed it from dataset*"
   ]
  },
  {
   "cell_type": "code",
   "execution_count": null,
   "id": "954f8f61",
   "metadata": {},
   "outputs": [],
   "source": []
  }
 ],
 "metadata": {
  "kernelspec": {
   "display_name": "Python 3 (ipykernel)",
   "language": "python",
   "name": "python3"
  },
  "language_info": {
   "codemirror_mode": {
    "name": "ipython",
    "version": 3
   },
   "file_extension": ".py",
   "mimetype": "text/x-python",
   "name": "python",
   "nbconvert_exporter": "python",
   "pygments_lexer": "ipython3",
   "version": "3.11.1"
  }
 },
 "nbformat": 4,
 "nbformat_minor": 5
}
